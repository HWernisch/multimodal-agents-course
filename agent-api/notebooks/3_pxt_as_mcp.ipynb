{
 "cells": [
  {
   "cell_type": "code",
   "execution_count": null,
   "id": "ea55ac8e",
   "metadata": {},
   "outputs": [],
   "source": [
    "import pixeltable as pxt\n",
    "\n",
    "tools = pxt.func.mcp.mcp_udfs(\n",
    "    \"http://localhost:9090/mcp\",\n",
    ")\n",
    "\n",
    "process_video_tool = tools[0]\n",
    "pxt.drop_dir(\"rick\", force=True)\n",
    "pxt.create_dir(\"rick\", if_exists=\"replace_force\")\n",
    "\n",
    "tbl = pxt.create_table(\n",
    "    path_str=\"rick.table\", schema={\"video_path\": pxt.type_system.String, \"video_name\": pxt.type_system.String}\n",
    ")\n",
    "\n",
    "tbl.add_computed_column(\n",
    "    video=process_video_tool(\n",
    "        video_path=tbl.video_path,\n",
    "    ),\n",
    "    if_exists=\"replace_force\",\n",
    ")\n",
    "\n",
    "tbl.insert(\n",
    "    [\n",
    "        {\n",
    "            \"video_path\": \"/app/videos/butter.mp4\",\n",
    "            \"video_name\": \"rick-and-morty.mp4\",\n",
    "        }\n",
    "    ]\n",
    ")\n"
   ]
  },
  {
   "cell_type": "code",
   "execution_count": 12,
   "id": "5c77394e",
   "metadata": {},
   "outputs": [
    {
     "name": "stdout",
     "output_type": "stream",
     "text": [
      "Tool: process_video\n",
      "Signature: (video_path: String) -> String\n",
      "\n",
      "Tool: get_video_clip_from_user_query\n",
      "Signature: (video_path: String, user_query: String) -> String\n",
      "\n",
      "Tool: get_video_clip_from_image\n",
      "Signature: (video_path: String, user_image: String) -> String\n",
      "\n",
      "Tool: ask_question_about_video\n",
      "Signature: (video_path: String, user_query: String) -> String\n",
      "\n",
      "Added 1 column value with 0 errors.\n"
     ]
    },
    {
     "data": {
      "text/plain": [
       "UpdateStatus(num_rows=1, num_computed_values=1, num_excs=0, updated_cols=[], cols_with_excs=[])"
      ]
     },
     "execution_count": 12,
     "metadata": {},
     "output_type": "execute_result"
    }
   ],
   "source": [
    "import pixeltable as pxt\n",
    "\n",
    "tbl = pxt.get_table(\"rick.table\")\n",
    "\n",
    "tools = pxt.func.mcp.mcp_udfs(\n",
    "    \"http://localhost:9090/mcp\",\n",
    ")\n",
    "\n",
    "for tool in tools:\n",
    "    print(f\"Tool: {tool.name}\")\n",
    "    print(f\"Signature: {tool.signature}\")\n",
    "    print()\n",
    "\n",
    "tbl.add_column(user_query=pxt.type_system.String)"
   ]
  },
  {
   "cell_type": "markdown",
   "id": "5bbd0e49",
   "metadata": {},
   "source": [
    "## Adding a MCP Tool as UDF\n",
    "\n",
    "This block will add `get_clip_by_user_query` mcp tool, which is the second tool in the list, as a computed column to a table.\n",
    "\n",
    "Observations:\n",
    "\n",
    "- The pixeltable method to get the MCP tools, seems to work but is kind of over the hand. Because...\n",
    "- 1. I've defined a table called rick.table where i've added a \"video_name\", \"video_path\" schema.\n",
    "- 2. I added the `process_video` tool as a computed column in the table.\n",
    "- 3. When i insert a video into the `video_path` column, it triggers the MCP tool that processes the video.\n",
    "- 4. Now, If i want to add other tools, I have added a empty `user_query` column into the existing table.\n",
    "- 5. I've added the `get_clip_by_user_query` MCP tool as a computed column into the table.\n",
    "- **When inserting a new pair** <video_path>, <user_query> into the table the request gets sent to the MCP and it is processed, but, this is important, \"The `process_video` also gets called one more time, because not only the user query column's got a new value, but \"video_path\" also.\n",
    "\n",
    "Important #2\n",
    "From the tools descriptions in MCP:\n",
    "\n",
    "```\n",
    "Tool: get_video_clip_from_user_query\n",
    "Signature: (video_path: String, user_query: String) -> String\n",
    "\n",
    "Tool: get_video_clip_from_image\n",
    "Signature: (video_path: String, user_image: String) -> String\n",
    "\n",
    "Tool: ask_question_about_video\n",
    "Signature: (video_path: String, user_query: String) -> String\n",
    "```\n",
    "\n",
    "The signature of `get_video_clip_from_user_query` and `ask_question_about_video` are the same, \"video_path\", and \"user_query\". If we create a table with these tools, once we \"call\" a tool, every other computed column (a.k.a MCP tool) in the table will get triggered also.\n",
    "\n",
    "This is good for pixeltable versioning system, but DOESN\"T WORK for what we planned to build. Our Agent should select which tool to call and when.\n"
   ]
  },
  {
   "cell_type": "code",
   "execution_count": null,
   "id": "318e5bf6",
   "metadata": {},
   "outputs": [],
   "source": [
    "tbl.add_computed_column(\n",
    "    clip_by_speech=tools[1](\n",
    "        video_path=tbl.video_path,\n",
    "        user_query=tbl.user_query,\n",
    "    ),\n",
    "    if_exists=\"replace_force\",\n",
    ")\n",
    "\n",
    "\n",
    "tbl.add_computed_column(\n",
    "    clip_by_speech=tools[1](\n",
    "        video_path=tbl.video_path,\n",
    "        user_query=tbl.user_query,\n",
    "    ),\n",
    "    if_exists=\"replace_force\",\n",
    ")"
   ]
  },
  {
   "cell_type": "code",
   "execution_count": null,
   "id": "60bb3cb9",
   "metadata": {},
   "outputs": [
    {
     "name": "stdout",
     "output_type": "stream",
     "text": [
      "Inserting rows into `table`: 1 rows [00:00, 457.24 rows/s]\n",
      "Inserted 1 row with 0 errors.\n"
     ]
    },
    {
     "data": {
      "text/plain": [
       "UpdateStatus(num_rows=1, num_computed_values=7, num_excs=0, updated_cols=[], cols_with_excs=[])"
      ]
     },
     "execution_count": 15,
     "metadata": {},
     "output_type": "execute_result"
    }
   ],
   "source": [
    "tbl.insert([{\"user_query\": \"pass the butter\", \"video_path\": \"/app/videos/butter.mp4\"}])"
   ]
  },
  {
   "cell_type": "code",
   "execution_count": null,
   "id": "d4d81fc9",
   "metadata": {},
   "outputs": [
    {
     "data": {
      "text/html": [
       "<table border=\"1\" class=\"dataframe\">\n",
       "  <thead>\n",
       "    <tr style=\"text-align: right;\">\n",
       "      <th>video_path</th>\n",
       "      <th>video_name</th>\n",
       "      <th>video</th>\n",
       "      <th>user_query</th>\n",
       "      <th>clip_by_speech</th>\n",
       "    </tr>\n",
       "  </thead>\n",
       "  <tbody>\n",
       "    <tr>\n",
       "      <td>/app/videos/butter.mp4</td>\n",
       "      <td>rick-and-morty.mp4</td>\n",
       "      <td>true</td>\n",
       "      <td>None</td>\n",
       "      <td>None</td>\n",
       "    </tr>\n",
       "    <tr>\n",
       "      <td>None</td>\n",
       "      <td>None</td>\n",
       "      <td>None</td>\n",
       "      <td>pass the butter</td>\n",
       "      <td>None</td>\n",
       "    </tr>\n",
       "    <tr>\n",
       "      <td>/app/videos/butter.mp4</td>\n",
       "      <td>None</td>\n",
       "      <td>false</td>\n",
       "      <td>pass the butter</td>\n",
       "      <td>{\n",
       "  &quot;clip_path&quot;: &quot;./videos/e9161d3f-cfb9-47ca-bbb9-bd20e3648d4e.mp4&quot;\n",
       "}</td>\n",
       "    </tr>\n",
       "  </tbody>\n",
       "</table>"
      ],
      "text/plain": [
       "               video_path          video_name  video       user_query  \\\n",
       "0  /app/videos/butter.mp4  rick-and-morty.mp4   true             None   \n",
       "1                    None                None   None  pass the butter   \n",
       "2  /app/videos/butter.mp4                None  false  pass the butter   \n",
       "\n",
       "                                      clip_by_speech  \n",
       "0                                               None  \n",
       "1                                               None  \n",
       "2  {\\n  \"clip_path\": \"./videos/e9161d3f-cfb9-47ca...  "
      ]
     },
     "execution_count": 16,
     "metadata": {},
     "output_type": "execute_result"
    }
   ],
   "source": [
    "tbl.show()"
   ]
  }
 ],
 "metadata": {
  "kernelspec": {
   "display_name": "agent-api",
   "language": "python",
   "name": "python3"
  },
  "language_info": {
   "codemirror_mode": {
    "name": "ipython",
    "version": 3
   },
   "file_extension": ".py",
   "mimetype": "text/x-python",
   "name": "python",
   "nbconvert_exporter": "python",
   "pygments_lexer": "ipython3",
   "version": "3.12.8"
  }
 },
 "nbformat": 4,
 "nbformat_minor": 5
}

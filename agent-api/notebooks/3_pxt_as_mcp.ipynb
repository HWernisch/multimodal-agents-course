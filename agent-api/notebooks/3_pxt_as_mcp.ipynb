{
 "cells": [
  {
   "cell_type": "markdown",
   "id": "2fafb6b7",
   "metadata": {},
   "source": [
    "## Testing the MCP as Tools\n",
    "\n",
    "Here I create a basic table with 2 columns, \"video_path\" and \"video_name\". The mcp_udfs returns the tools from the MCP server as Pixeltable Functions.\n",
    "I add a computed column with the `process_video` tool, and then insert a video into the table. This successfully triggers the MCP tool that processes the video.\n"
   ]
  },
  {
   "cell_type": "code",
   "execution_count": null,
   "id": "ea55ac8e",
   "metadata": {},
   "outputs": [],
   "source": [
    "import pixeltable as pxt\n",
    "\n",
    "tools = pxt.func.mcp.mcp_udfs(\n",
    "    \"http://localhost:9090/mcp\",\n",
    ")\n",
    "\n",
    "process_video_tool = tools[0]\n",
    "pxt.drop_dir(\"rick\", force=True)\n",
    "pxt.create_dir(\"rick\", if_exists=\"replace_force\")\n",
    "\n",
    "tbl = pxt.create_table(\n",
    "    path_str=\"rick.table\", schema={\"video_path\": pxt.type_system.String, \"video_name\": pxt.type_system.String}\n",
    ")\n",
    "\n",
    "tbl.add_computed_column(\n",
    "    video=process_video_tool(\n",
    "        video_path=tbl.video_path,\n",
    "    ),\n",
    "    if_exists=\"replace_force\",\n",
    ")\n",
    "\n",
    "tbl.insert(\n",
    "    [\n",
    "        {\n",
    "            \"video_path\": \"/app/videos/butter.mp4\",\n",
    "            \"video_name\": \"rick-and-morty.mp4\",\n",
    "        }\n",
    "    ]\n",
    ")\n"
   ]
  },
  {
   "cell_type": "code",
   "execution_count": 12,
   "id": "5c77394e",
   "metadata": {},
   "outputs": [
    {
     "name": "stdout",
     "output_type": "stream",
     "text": [
      "Tool: process_video\n",
      "Signature: (video_path: String) -> String\n",
      "\n",
      "Tool: get_video_clip_from_user_query\n",
      "Signature: (video_path: String, user_query: String) -> String\n",
      "\n",
      "Tool: get_video_clip_from_image\n",
      "Signature: (video_path: String, user_image: String) -> String\n",
      "\n",
      "Tool: ask_question_about_video\n",
      "Signature: (video_path: String, user_query: String) -> String\n",
      "\n",
      "Added 1 column value with 0 errors.\n"
     ]
    },
    {
     "data": {
      "text/plain": [
       "UpdateStatus(num_rows=1, num_computed_values=1, num_excs=0, updated_cols=[], cols_with_excs=[])"
      ]
     },
     "execution_count": 12,
     "metadata": {},
     "output_type": "execute_result"
    }
   ],
   "source": [
    "import pixeltable as pxt\n",
    "\n",
    "tbl = pxt.get_table(\"rick.table\")\n",
    "\n",
    "tools = pxt.func.mcp.mcp_udfs(\n",
    "    \"http://localhost:9090/mcp\",\n",
    ")\n",
    "\n",
    "for tool in tools:\n",
    "    print(f\"Tool: {tool.name}\")\n",
    "    print(f\"Signature: {tool.signature}\")\n",
    "    print()\n",
    "\n",
    "tbl.add_column(user_query=pxt.type_system.String)"
   ]
  },
  {
   "cell_type": "markdown",
   "id": "5bbd0e49",
   "metadata": {},
   "source": [
    "## Adding a MCP Tool as UDF\n",
    "\n",
    "This block will add `get_clip_by_user_query` mcp tool, which is the second tool in the list, as a computed column to a table.\n",
    "\n",
    "Observations:\n",
    "\n",
    "- The pixeltable method to get the MCP tools, seems to work but is kind of over the hand. Because...\n",
    "- 1. I've defined a table called rick.table where i've added a \"video_name\", \"video_path\" schema.\n",
    "- 2. I added the `process_video` tool as a computed column in the table.\n",
    "- 3. When i insert a video into the `video_path` column, it triggers the MCP tool that processes the video.\n",
    "- 4. Now, If i want to add other tools, I have added a empty `user_query` column into the existing table.\n",
    "- 5. I've added the `get_clip_by_user_query` MCP tool as a computed column into the table.\n",
    "- **When inserting a new pair** <video_path>, <user_query> into the table the request gets sent to the MCP and it is processed, but, this is important, \"The `process_video` also gets called one more time, because not only the user query column's got a new value, but \"video_path\" also.\n",
    "\n",
    "Important #2\n",
    "From the tools descriptions in MCP:\n",
    "\n",
    "```\n",
    "Tool: get_video_clip_from_user_query\n",
    "Signature: (video_path: String, user_query: String) -> String\n",
    "\n",
    "Tool: get_video_clip_from_image\n",
    "Signature: (video_path: String, user_image: String) -> String\n",
    "\n",
    "Tool: ask_question_about_video\n",
    "Signature: (video_path: String, user_query: String) -> String\n",
    "```\n",
    "\n",
    "The signature of `get_video_clip_from_user_query` and `ask_question_about_video` are the same, \"video_path\", and \"user_query\". If we create a table with these tools, once we \"call\" a tool, every other computed column (a.k.a MCP tool) in the table will get triggered also.\n",
    "\n",
    "This is good for pixeltable versioning system, but DOESN\"T WORK for what we planned to build. Our Agent should select which tool to call and when.\n"
   ]
  },
  {
   "cell_type": "code",
   "execution_count": null,
   "id": "318e5bf6",
   "metadata": {},
   "outputs": [
    {
     "name": "stderr",
     "output_type": "stream",
     "text": [
      "ERROR:mcp.client.streamable_http:Error reading SSE stream:\n",
      "Traceback (most recent call last):\n",
      "  File \"/Users/razvantalexandru/Documents/NeuralBits/multimodal-agents-course/agent-api/.venv/lib/python3.12/site-packages/httpx/_transports/default.py\", line 101, in map_httpcore_exceptions\n",
      "    yield\n",
      "  File \"/Users/razvantalexandru/Documents/NeuralBits/multimodal-agents-course/agent-api/.venv/lib/python3.12/site-packages/httpx/_transports/default.py\", line 271, in __aiter__\n",
      "    async for part in self._httpcore_stream:\n",
      "  File \"/Users/razvantalexandru/Documents/NeuralBits/multimodal-agents-course/agent-api/.venv/lib/python3.12/site-packages/httpcore/_async/connection_pool.py\", line 407, in __aiter__\n",
      "    raise exc from None\n",
      "  File \"/Users/razvantalexandru/Documents/NeuralBits/multimodal-agents-course/agent-api/.venv/lib/python3.12/site-packages/httpcore/_async/connection_pool.py\", line 403, in __aiter__\n",
      "    async for part in self._stream:\n",
      "  File \"/Users/razvantalexandru/Documents/NeuralBits/multimodal-agents-course/agent-api/.venv/lib/python3.12/site-packages/httpcore/_async/http11.py\", line 342, in __aiter__\n",
      "    raise exc\n",
      "  File \"/Users/razvantalexandru/Documents/NeuralBits/multimodal-agents-course/agent-api/.venv/lib/python3.12/site-packages/httpcore/_async/http11.py\", line 334, in __aiter__\n",
      "    async for chunk in self._connection._receive_response_body(**kwargs):\n",
      "  File \"/Users/razvantalexandru/Documents/NeuralBits/multimodal-agents-course/agent-api/.venv/lib/python3.12/site-packages/httpcore/_async/http11.py\", line 203, in _receive_response_body\n",
      "    event = await self._receive_event(timeout=timeout)\n",
      "            ^^^^^^^^^^^^^^^^^^^^^^^^^^^^^^^^^^^^^^^^^^\n",
      "  File \"/Users/razvantalexandru/Documents/NeuralBits/multimodal-agents-course/agent-api/.venv/lib/python3.12/site-packages/httpcore/_async/http11.py\", line 213, in _receive_event\n",
      "    with map_exceptions({h11.RemoteProtocolError: RemoteProtocolError}):\n",
      "         ^^^^^^^^^^^^^^^^^^^^^^^^^^^^^^^^^^^^^^^^^^^^^^^^^^^^^^^^^^^^^^\n",
      "  File \"/Users/razvantalexandru/.local/share/uv/python/cpython-3.12.8-macos-aarch64-none/lib/python3.12/contextlib.py\", line 158, in __exit__\n",
      "    self.gen.throw(value)\n",
      "  File \"/Users/razvantalexandru/Documents/NeuralBits/multimodal-agents-course/agent-api/.venv/lib/python3.12/site-packages/httpcore/_exceptions.py\", line 14, in map_exceptions\n",
      "    raise to_exc(exc) from exc\n",
      "httpcore.RemoteProtocolError: peer closed connection without sending complete message body (incomplete chunked read)\n",
      "\n",
      "The above exception was the direct cause of the following exception:\n",
      "\n",
      "Traceback (most recent call last):\n",
      "  File \"/Users/razvantalexandru/Documents/NeuralBits/multimodal-agents-course/agent-api/.venv/lib/python3.12/site-packages/mcp/client/streamable_http.py\", line 306, in _handle_sse_response\n",
      "    async for sse in event_source.aiter_sse():\n",
      "  File \"/Users/razvantalexandru/Documents/NeuralBits/multimodal-agents-course/agent-api/.venv/lib/python3.12/site-packages/httpx_sse/_api.py\", line 39, in aiter_sse\n",
      "    async for line in self._response.aiter_lines():\n",
      "  File \"/Users/razvantalexandru/Documents/NeuralBits/multimodal-agents-course/agent-api/.venv/lib/python3.12/site-packages/httpx/_models.py\", line 1031, in aiter_lines\n",
      "    async for text in self.aiter_text():\n",
      "  File \"/Users/razvantalexandru/Documents/NeuralBits/multimodal-agents-course/agent-api/.venv/lib/python3.12/site-packages/httpx/_models.py\", line 1018, in aiter_text\n",
      "    async for byte_content in self.aiter_bytes():\n",
      "  File \"/Users/razvantalexandru/Documents/NeuralBits/multimodal-agents-course/agent-api/.venv/lib/python3.12/site-packages/httpx/_models.py\", line 997, in aiter_bytes\n",
      "    async for raw_bytes in self.aiter_raw():\n",
      "  File \"/Users/razvantalexandru/Documents/NeuralBits/multimodal-agents-course/agent-api/.venv/lib/python3.12/site-packages/httpx/_models.py\", line 1055, in aiter_raw\n",
      "    async for raw_stream_bytes in self.stream:\n",
      "  File \"/Users/razvantalexandru/Documents/NeuralBits/multimodal-agents-course/agent-api/.venv/lib/python3.12/site-packages/httpx/_client.py\", line 176, in __aiter__\n",
      "    async for chunk in self._stream:\n",
      "  File \"/Users/razvantalexandru/Documents/NeuralBits/multimodal-agents-course/agent-api/.venv/lib/python3.12/site-packages/httpx/_transports/default.py\", line 270, in __aiter__\n",
      "    with map_httpcore_exceptions():\n",
      "         ^^^^^^^^^^^^^^^^^^^^^^^^^\n",
      "  File \"/Users/razvantalexandru/.local/share/uv/python/cpython-3.12.8-macos-aarch64-none/lib/python3.12/contextlib.py\", line 158, in __exit__\n",
      "    self.gen.throw(value)\n",
      "  File \"/Users/razvantalexandru/Documents/NeuralBits/multimodal-agents-course/agent-api/.venv/lib/python3.12/site-packages/httpx/_transports/default.py\", line 118, in map_httpcore_exceptions\n",
      "    raise mapped_exc(message) from exc\n",
      "httpx.RemoteProtocolError: peer closed connection without sending complete message body (incomplete chunked read)\n"
     ]
    }
   ],
   "source": [
    "tbl.add_computed_column(\n",
    "    clip_by_speech=tools[1](\n",
    "        video_path=tbl.video_path,\n",
    "        user_query=tbl.user_query,\n",
    "    ),\n",
    "    if_exists=\"replace_force\",\n",
    ")\n",
    "\n",
    "\n",
    "tbl.add_computed_column(\n",
    "    clip_by_speech=tools[1](\n",
    "        video_path=tbl.video_path,\n",
    "        user_query=tbl.user_query,\n",
    "    ),\n",
    "    if_exists=\"replace_force\",\n",
    ")"
   ]
  },
  {
   "cell_type": "code",
   "execution_count": null,
   "id": "60bb3cb9",
   "metadata": {},
   "outputs": [
    {
     "name": "stdout",
     "output_type": "stream",
     "text": [
      "Inserting rows into `table`: 1 rows [00:00, 457.24 rows/s]\n",
      "Inserted 1 row with 0 errors.\n"
     ]
    },
    {
     "data": {
      "text/plain": [
       "UpdateStatus(num_rows=1, num_computed_values=7, num_excs=0, updated_cols=[], cols_with_excs=[])"
      ]
     },
     "execution_count": 15,
     "metadata": {},
     "output_type": "execute_result"
    }
   ],
   "source": [
    "tbl.insert([{\"user_query\": \"pass the butter\", \"video_path\": \"/app/videos/butter.mp4\"}])"
   ]
  },
  {
   "cell_type": "code",
   "execution_count": null,
   "id": "d4d81fc9",
   "metadata": {},
   "outputs": [
    {
     "data": {
      "text/html": [
       "<table border=\"1\" class=\"dataframe\">\n",
       "  <thead>\n",
       "    <tr style=\"text-align: right;\">\n",
       "      <th>video_path</th>\n",
       "      <th>video_name</th>\n",
       "      <th>video</th>\n",
       "      <th>user_query</th>\n",
       "      <th>clip_by_speech</th>\n",
       "    </tr>\n",
       "  </thead>\n",
       "  <tbody>\n",
       "    <tr>\n",
       "      <td>/app/videos/butter.mp4</td>\n",
       "      <td>rick-and-morty.mp4</td>\n",
       "      <td>true</td>\n",
       "      <td>None</td>\n",
       "      <td>None</td>\n",
       "    </tr>\n",
       "    <tr>\n",
       "      <td>None</td>\n",
       "      <td>None</td>\n",
       "      <td>None</td>\n",
       "      <td>pass the butter</td>\n",
       "      <td>None</td>\n",
       "    </tr>\n",
       "    <tr>\n",
       "      <td>/app/videos/butter.mp4</td>\n",
       "      <td>None</td>\n",
       "      <td>false</td>\n",
       "      <td>pass the butter</td>\n",
       "      <td>{\n",
       "  &quot;clip_path&quot;: &quot;./videos/e9161d3f-cfb9-47ca-bbb9-bd20e3648d4e.mp4&quot;\n",
       "}</td>\n",
       "    </tr>\n",
       "  </tbody>\n",
       "</table>"
      ],
      "text/plain": [
       "               video_path          video_name  video       user_query  \\\n",
       "0  /app/videos/butter.mp4  rick-and-morty.mp4   true             None   \n",
       "1                    None                None   None  pass the butter   \n",
       "2  /app/videos/butter.mp4                None  false  pass the butter   \n",
       "\n",
       "                                      clip_by_speech  \n",
       "0                                               None  \n",
       "1                                               None  \n",
       "2  {\\n  \"clip_path\": \"./videos/e9161d3f-cfb9-47ca...  "
      ]
     },
     "execution_count": 16,
     "metadata": {},
     "output_type": "execute_result"
    }
   ],
   "source": [
    "tbl.show()"
   ]
  }
 ],
 "metadata": {
  "kernelspec": {
   "display_name": "agent-api",
   "language": "python",
   "name": "python3"
  },
  "language_info": {
   "codemirror_mode": {
    "name": "ipython",
    "version": 3
   },
   "file_extension": ".py",
   "mimetype": "text/x-python",
   "name": "python",
   "nbconvert_exporter": "python",
   "pygments_lexer": "ipython3",
   "version": "3.12.8"
  }
 },
 "nbformat": 4,
 "nbformat_minor": 5
}

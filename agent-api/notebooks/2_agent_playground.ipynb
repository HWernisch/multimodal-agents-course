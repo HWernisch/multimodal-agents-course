{
 "cells": [
  {
   "cell_type": "code",
   "execution_count": 1,
   "metadata": {},
   "outputs": [
    {
     "data": {
      "text/plain": [
       "True"
      ]
     },
     "execution_count": 1,
     "metadata": {},
     "output_type": "execute_result"
    }
   ],
   "source": [
    "from dotenv import load_dotenv\n",
    "\n",
    "load_dotenv()"
   ]
  },
  {
   "cell_type": "code",
   "execution_count": 4,
   "metadata": {},
   "outputs": [],
   "source": [
    "from agent_api.core.agent import GroqAgent, Memory, MemoryRecord"
   ]
  },
  {
   "cell_type": "markdown",
   "metadata": {},
   "source": [
    "### Understanding the Memory class (Stateful Agent)\n"
   ]
  },
  {
   "cell_type": "code",
   "execution_count": 5,
   "metadata": {},
   "outputs": [
    {
     "name": "stdout",
     "output_type": "stream",
     "text": [
      "Connected to Pixeltable database at: postgresql+psycopg://postgres:@/pixeltable?host=/Users/moteroperdido/.pixeltable/pgdata\n",
      "Created directory 'my_test_memory'.\n",
      "Created table `memory`.\n"
     ]
    }
   ],
   "source": [
    "memory = Memory(name=\"my_test_memory\")"
   ]
  },
  {
   "cell_type": "code",
   "execution_count": 9,
   "metadata": {},
   "outputs": [],
   "source": [
    "from datetime import datetime\n",
    "\n",
    "memory_record = MemoryRecord(\n",
    "    message_id=\"1\", role=\"user\", content=\"Hello, world!\", timestamp=datetime.now()\n",
    ")"
   ]
  },
  {
   "cell_type": "code",
   "execution_count": 10,
   "metadata": {},
   "outputs": [
    {
     "data": {
      "text/plain": [
       "{'message_id': '1',\n",
       " 'role': 'user',\n",
       " 'content': 'Hello, world!',\n",
       " 'timestamp': datetime.datetime(2025, 6, 3, 15, 46, 21, 141118)}"
      ]
     },
     "execution_count": 10,
     "metadata": {},
     "output_type": "execute_result"
    }
   ],
   "source": [
    "memory_record.model_dump()"
   ]
  },
  {
   "cell_type": "code",
   "execution_count": 11,
   "metadata": {},
   "outputs": [
    {
     "name": "stdout",
     "output_type": "stream",
     "text": [
      "Inserting rows into `memory`: 1 rows [00:00,  6.26 rows/s]\n",
      "Inserted 1 row with 0 errors.\n"
     ]
    }
   ],
   "source": [
    "memory.insert(memory_record=memory_record)"
   ]
  },
  {
   "cell_type": "code",
   "execution_count": 12,
   "metadata": {},
   "outputs": [
    {
     "data": {
      "text/plain": [
       "[MemoryRecord(message_id='1', role='user', content='Hello, world!', timestamp=datetime.datetime(2025, 6, 3, 15, 46, 21, 141118, tzinfo=zoneinfo.ZoneInfo(key='Europe/Madrid')))]"
      ]
     },
     "execution_count": 12,
     "metadata": {},
     "output_type": "execute_result"
    }
   ],
   "source": [
    "memory.get_all()"
   ]
  },
  {
   "cell_type": "code",
   "execution_count": 13,
   "metadata": {},
   "outputs": [
    {
     "data": {
      "text/plain": [
       "[MemoryRecord(message_id='1', role='user', content='Hello, world!', timestamp=datetime.datetime(2025, 6, 3, 15, 46, 21, 141118, tzinfo=zoneinfo.ZoneInfo(key='Europe/Madrid')))]"
      ]
     },
     "execution_count": 13,
     "metadata": {},
     "output_type": "execute_result"
    }
   ],
   "source": [
    "memory.get_latest(n=1)"
   ]
  },
  {
   "cell_type": "code",
   "execution_count": 28,
   "metadata": {},
   "outputs": [],
   "source": [
    "agent = GroqAgent(\n",
    "    name=\"my_test_agent\",\n",
    "    system_prompt=\"You are a helpful assistant.\",\n",
    "    model=\"llama3-8b-8192\",\n",
    "    mcp_server=\"http://0.0.0.0:8000/mcp\",\n",
    "    memory=memory,\n",
    ")"
   ]
  },
  {
   "cell_type": "code",
   "execution_count": 30,
   "metadata": {},
   "outputs": [
    {
     "name": "stderr",
     "output_type": "stream",
     "text": [
      "\u001b[32m2025-06-03 16:02:33.439\u001b[0m | \u001b[1mINFO    \u001b[0m | \u001b[36magent_api.core.agent.base_agent\u001b[0m:\u001b[36mdiscover_tools\u001b[0m:\u001b[36m43\u001b[0m - \u001b[1mDiscovered 5 tools:\u001b[0m\n",
      "\u001b[32m2025-06-03 16:02:33.439\u001b[0m | \u001b[1mINFO    \u001b[0m | \u001b[36magent_api.core.agent.base_agent\u001b[0m:\u001b[36mdiscover_tools\u001b[0m:\u001b[36m45\u001b[0m - \u001b[1m- process_video: Process a video file and prepare it for searching.\u001b[0m\n",
      "\u001b[32m2025-06-03 16:02:33.439\u001b[0m | \u001b[1mINFO    \u001b[0m | \u001b[36magent_api.core.agent.base_agent\u001b[0m:\u001b[36mdiscover_tools\u001b[0m:\u001b[36m45\u001b[0m - \u001b[1m- list_tables: List all processed videos in the database.\u001b[0m\n",
      "\u001b[32m2025-06-03 16:02:33.440\u001b[0m | \u001b[1mINFO    \u001b[0m | \u001b[36magent_api.core.agent.base_agent\u001b[0m:\u001b[36mdiscover_tools\u001b[0m:\u001b[36m45\u001b[0m - \u001b[1m- get_clip_by_speech_sim: Get a video clip based on a user query using the transcripts index.\u001b[0m\n",
      "\u001b[32m2025-06-03 16:02:33.440\u001b[0m | \u001b[1mINFO    \u001b[0m | \u001b[36magent_api.core.agent.base_agent\u001b[0m:\u001b[36mdiscover_tools\u001b[0m:\u001b[36m45\u001b[0m - \u001b[1m- get_clip_by_image_sim: Get a video clip based on a user query using the image index.\u001b[0m\n",
      "\u001b[32m2025-06-03 16:02:33.440\u001b[0m | \u001b[1mINFO    \u001b[0m | \u001b[36magent_api.core.agent.base_agent\u001b[0m:\u001b[36mdiscover_tools\u001b[0m:\u001b[36m45\u001b[0m - \u001b[1m- get_clip_by_caption_sim: Get a video clip based on a user query using the caption index.\u001b[0m\n"
     ]
    },
    {
     "data": {
      "text/plain": [
       "[Tool(name='process_video', description='Process a video file and prepare it for searching.', inputSchema={'properties': {'video_path': {'title': 'Video Path', 'type': 'string'}}, 'required': ['video_path'], 'type': 'object'}, annotations=None),\n",
       " Tool(name='list_tables', description='List all processed videos in the database.', inputSchema={'properties': {}, 'type': 'object'}, annotations=None),\n",
       " Tool(name='get_clip_by_speech_sim', description='Get a video clip based on a user query using the transcripts index.', inputSchema={'properties': {'video_name': {'title': 'Video Name', 'type': 'string'}, 'user_query': {'title': 'User Query', 'type': 'string'}, 'top_k': {'default': 3, 'title': 'Top K', 'type': 'integer'}}, 'required': ['video_name', 'user_query'], 'type': 'object'}, annotations=None),\n",
       " Tool(name='get_clip_by_image_sim', description='Get a video clip based on a user query using the image index.', inputSchema={'$defs': {'Base64ToPILImageModel': {'properties': {'image': {'title': 'Image', 'type': 'string'}}, 'required': ['image'], 'title': 'Base64ToPILImageModel', 'type': 'object'}}, 'properties': {'video_name': {'title': 'Video Name', 'type': 'string'}, 'image_base64': {'$ref': '#/$defs/Base64ToPILImageModel', 'title': 'Image Base64'}, 'top_k': {'default': 3, 'title': 'Top K', 'type': 'integer'}}, 'required': ['video_name', 'image_base64'], 'type': 'object'}, annotations=None),\n",
       " Tool(name='get_clip_by_caption_sim', description='Get a video clip based on a user query using the caption index.', inputSchema={'properties': {'video_name': {'title': 'Video Name', 'type': 'string'}, 'user_query': {'title': 'User Query', 'type': 'string'}, 'top_k': {'default': 3, 'title': 'Top K', 'type': 'integer'}}, 'required': ['video_name', 'user_query'], 'type': 'object'}, annotations=None)]"
      ]
     },
     "execution_count": 30,
     "metadata": {},
     "output_type": "execute_result"
    }
   ],
   "source": [
    "await agent.discover_tools()"
   ]
  },
  {
   "cell_type": "code",
   "execution_count": null,
   "metadata": {},
   "outputs": [],
   "source": []
  },
  {
   "cell_type": "code",
   "execution_count": 14,
   "metadata": {},
   "outputs": [
    {
     "name": "stderr",
     "output_type": "stream",
     "text": [
      "\u001b[32m2025-06-03 15:39:14.100\u001b[0m | \u001b[31m\u001b[1mERROR   \u001b[0m | \u001b[36magent_api.core.agent.base_agent\u001b[0m:\u001b[36mdiscover_tools\u001b[0m:\u001b[36m52\u001b[0m - \u001b[31m\u001b[1mTool discovery failed: Session terminated\u001b[0m\n"
     ]
    },
    {
     "ename": "McpError",
     "evalue": "Session terminated",
     "output_type": "error",
     "traceback": [
      "\u001b[31m---------------------------------------------------------------------------\u001b[39m",
      "\u001b[31mMcpError\u001b[39m                                  Traceback (most recent call last)",
      "\u001b[36mCell\u001b[39m\u001b[36m \u001b[39m\u001b[32mIn[14]\u001b[39m\u001b[32m, line 1\u001b[39m\n\u001b[32m----> \u001b[39m\u001b[32m1\u001b[39m \u001b[38;5;28;01mawait\u001b[39;00m agent.discover_tools()\n",
      "\u001b[36mFile \u001b[39m\u001b[32m~/Desktop/projects/the_neural_maze/projects/multimodal-agents-course/agent-api/src/agent_api/core/agent/base_agent.py:38\u001b[39m, in \u001b[36mBaseAgent.discover_tools\u001b[39m\u001b[34m(self)\u001b[39m\n\u001b[32m     24\u001b[39m \u001b[38;5;250m\u001b[39m\u001b[33;03m\"\"\"\u001b[39;00m\n\u001b[32m     25\u001b[39m \u001b[33;03mDiscover and register available tools from the MCP server.\u001b[39;00m\n\u001b[32m     26\u001b[39m \n\u001b[32m   (...)\u001b[39m\u001b[32m     35\u001b[39m \u001b[33;03m    Exception: If tool discovery fails for any other reason\u001b[39;00m\n\u001b[32m     36\u001b[39m \u001b[33;03m\"\"\"\u001b[39;00m\n\u001b[32m     37\u001b[39m \u001b[38;5;28;01mtry\u001b[39;00m:\n\u001b[32m---> \u001b[39m\u001b[32m38\u001b[39m     \u001b[38;5;28;01masync\u001b[39;00m \u001b[38;5;28;01mwith\u001b[39;00m \u001b[38;5;28mself\u001b[39m.mcp_client \u001b[38;5;28;01mas\u001b[39;00m client:\n\u001b[32m     39\u001b[39m         tools = \u001b[38;5;28;01mawait\u001b[39;00m client.list_tools()\n\u001b[32m     40\u001b[39m         \u001b[38;5;28;01mif\u001b[39;00m \u001b[38;5;129;01mnot\u001b[39;00m tools:\n",
      "\u001b[36mFile \u001b[39m\u001b[32m~/Desktop/projects/the_neural_maze/projects/multimodal-agents-course/agent-api/.venv/lib/python3.12/site-packages/fastmcp/client/client.py:260\u001b[39m, in \u001b[36mClient.__aexit__\u001b[39m\u001b[34m(self, exc_type, exc_val, exc_tb)\u001b[39m\n\u001b[32m    259\u001b[39m \u001b[38;5;28;01masync\u001b[39;00m \u001b[38;5;28;01mdef\u001b[39;00m\u001b[38;5;250m \u001b[39m\u001b[34m__aexit__\u001b[39m(\u001b[38;5;28mself\u001b[39m, exc_type, exc_val, exc_tb):\n\u001b[32m--> \u001b[39m\u001b[32m260\u001b[39m     \u001b[38;5;28;01mawait\u001b[39;00m \u001b[38;5;28mself\u001b[39m._disconnect()\n",
      "\u001b[36mFile \u001b[39m\u001b[32m~/Desktop/projects/the_neural_maze/projects/multimodal-agents-course/agent-api/.venv/lib/python3.12/site-packages/fastmcp/client/client.py:298\u001b[39m, in \u001b[36mClient._disconnect\u001b[39m\u001b[34m(self, force)\u001b[39m\n\u001b[32m    296\u001b[39m \u001b[38;5;66;03m# wait for the session to finish\u001b[39;00m\n\u001b[32m    297\u001b[39m \u001b[38;5;28;01mif\u001b[39;00m runner_task:\n\u001b[32m--> \u001b[39m\u001b[32m298\u001b[39m     \u001b[38;5;28;01mawait\u001b[39;00m runner_task\n\u001b[32m    300\u001b[39m \u001b[38;5;66;03m# Reset for future reconnects\u001b[39;00m\n\u001b[32m    301\u001b[39m \u001b[38;5;28mself\u001b[39m._stop_event = anyio.Event()\n",
      "\u001b[36mFile \u001b[39m\u001b[32m~/.local/share/uv/python/cpython-3.12.8-macos-aarch64-none/lib/python3.12/asyncio/futures.py:292\u001b[39m, in \u001b[36mFuture.__await__\u001b[39m\u001b[34m(self)\u001b[39m\n\u001b[32m    290\u001b[39m \u001b[38;5;28;01mif\u001b[39;00m \u001b[38;5;129;01mnot\u001b[39;00m \u001b[38;5;28mself\u001b[39m.done():\n\u001b[32m    291\u001b[39m     \u001b[38;5;28;01mraise\u001b[39;00m \u001b[38;5;167;01mRuntimeError\u001b[39;00m(\u001b[33m\"\u001b[39m\u001b[33mawait wasn\u001b[39m\u001b[33m'\u001b[39m\u001b[33mt used with future\u001b[39m\u001b[33m\"\u001b[39m)\n\u001b[32m--> \u001b[39m\u001b[32m292\u001b[39m \u001b[38;5;28;01mreturn\u001b[39;00m \u001b[38;5;28;43mself\u001b[39;49m\u001b[43m.\u001b[49m\u001b[43mresult\u001b[49m\u001b[43m(\u001b[49m\u001b[43m)\u001b[49m\n",
      "\u001b[36mFile \u001b[39m\u001b[32m~/.local/share/uv/python/cpython-3.12.8-macos-aarch64-none/lib/python3.12/asyncio/futures.py:202\u001b[39m, in \u001b[36mFuture.result\u001b[39m\u001b[34m(self)\u001b[39m\n\u001b[32m    200\u001b[39m \u001b[38;5;28mself\u001b[39m.__log_traceback = \u001b[38;5;28;01mFalse\u001b[39;00m\n\u001b[32m    201\u001b[39m \u001b[38;5;28;01mif\u001b[39;00m \u001b[38;5;28mself\u001b[39m._exception \u001b[38;5;129;01mis\u001b[39;00m \u001b[38;5;129;01mnot\u001b[39;00m \u001b[38;5;28;01mNone\u001b[39;00m:\n\u001b[32m--> \u001b[39m\u001b[32m202\u001b[39m     \u001b[38;5;28;01mraise\u001b[39;00m \u001b[38;5;28mself\u001b[39m._exception.with_traceback(\u001b[38;5;28mself\u001b[39m._exception_tb)\n\u001b[32m    203\u001b[39m \u001b[38;5;28;01mreturn\u001b[39;00m \u001b[38;5;28mself\u001b[39m._result\n",
      "\u001b[36mFile \u001b[39m\u001b[32m~/.local/share/uv/python/cpython-3.12.8-macos-aarch64-none/lib/python3.12/asyncio/tasks.py:314\u001b[39m, in \u001b[36mTask.__step_run_and_handle_result\u001b[39m\u001b[34m(***failed resolving arguments***)\u001b[39m\n\u001b[32m    310\u001b[39m \u001b[38;5;28;01mtry\u001b[39;00m:\n\u001b[32m    311\u001b[39m     \u001b[38;5;28;01mif\u001b[39;00m exc \u001b[38;5;129;01mis\u001b[39;00m \u001b[38;5;28;01mNone\u001b[39;00m:\n\u001b[32m    312\u001b[39m         \u001b[38;5;66;03m# We use the `send` method directly, because coroutines\u001b[39;00m\n\u001b[32m    313\u001b[39m         \u001b[38;5;66;03m# don't have `__iter__` and `__next__` methods.\u001b[39;00m\n\u001b[32m--> \u001b[39m\u001b[32m314\u001b[39m         result = \u001b[43mcoro\u001b[49m\u001b[43m.\u001b[49m\u001b[43msend\u001b[49m\u001b[43m(\u001b[49m\u001b[38;5;28;43;01mNone\u001b[39;49;00m\u001b[43m)\u001b[49m\n\u001b[32m    315\u001b[39m     \u001b[38;5;28;01melse\u001b[39;00m:\n\u001b[32m    316\u001b[39m         result = coro.throw(exc)\n",
      "\u001b[36mFile \u001b[39m\u001b[32m~/Desktop/projects/the_neural_maze/projects/multimodal-agents-course/agent-api/.venv/lib/python3.12/site-packages/fastmcp/client/client.py:309\u001b[39m, in \u001b[36mClient._session_runner\u001b[39m\u001b[34m(self)\u001b[39m\n\u001b[32m    307\u001b[39m \u001b[38;5;28;01masync\u001b[39;00m \u001b[38;5;28;01mwith\u001b[39;00m AsyncExitStack() \u001b[38;5;28;01mas\u001b[39;00m stack:\n\u001b[32m    308\u001b[39m     \u001b[38;5;28;01mtry\u001b[39;00m:\n\u001b[32m--> \u001b[39m\u001b[32m309\u001b[39m         \u001b[38;5;28;01mawait\u001b[39;00m stack.enter_async_context(\u001b[38;5;28mself\u001b[39m._context_manager())\n\u001b[32m    310\u001b[39m         \u001b[38;5;66;03m# Session/context is now ready\u001b[39;00m\n\u001b[32m    311\u001b[39m         \u001b[38;5;28mself\u001b[39m._ready_event.set()\n",
      "\u001b[36mFile \u001b[39m\u001b[32m~/.local/share/uv/python/cpython-3.12.8-macos-aarch64-none/lib/python3.12/contextlib.py:659\u001b[39m, in \u001b[36mAsyncExitStack.enter_async_context\u001b[39m\u001b[34m(self, cm)\u001b[39m\n\u001b[32m    655\u001b[39m \u001b[38;5;28;01mexcept\u001b[39;00m \u001b[38;5;167;01mAttributeError\u001b[39;00m:\n\u001b[32m    656\u001b[39m     \u001b[38;5;28;01mraise\u001b[39;00m \u001b[38;5;167;01mTypeError\u001b[39;00m(\u001b[33mf\u001b[39m\u001b[33m\"\u001b[39m\u001b[33m'\u001b[39m\u001b[38;5;132;01m{\u001b[39;00m\u001b[38;5;28mcls\u001b[39m.\u001b[34m__module__\u001b[39m\u001b[38;5;132;01m}\u001b[39;00m\u001b[33m.\u001b[39m\u001b[38;5;132;01m{\u001b[39;00m\u001b[38;5;28mcls\u001b[39m.\u001b[34m__qualname__\u001b[39m\u001b[38;5;132;01m}\u001b[39;00m\u001b[33m'\u001b[39m\u001b[33m object does \u001b[39m\u001b[33m\"\u001b[39m\n\u001b[32m    657\u001b[39m                     \u001b[33mf\u001b[39m\u001b[33m\"\u001b[39m\u001b[33mnot support the asynchronous context manager protocol\u001b[39m\u001b[33m\"\u001b[39m\n\u001b[32m    658\u001b[39m                    ) \u001b[38;5;28;01mfrom\u001b[39;00m\u001b[38;5;250m \u001b[39m\u001b[38;5;28;01mNone\u001b[39;00m\n\u001b[32m--> \u001b[39m\u001b[32m659\u001b[39m result = \u001b[38;5;28;01mawait\u001b[39;00m _enter(cm)\n\u001b[32m    660\u001b[39m \u001b[38;5;28mself\u001b[39m._push_async_cm_exit(cm, _exit)\n\u001b[32m    661\u001b[39m \u001b[38;5;28;01mreturn\u001b[39;00m result\n",
      "\u001b[36mFile \u001b[39m\u001b[32m~/.local/share/uv/python/cpython-3.12.8-macos-aarch64-none/lib/python3.12/contextlib.py:210\u001b[39m, in \u001b[36m_AsyncGeneratorContextManager.__aenter__\u001b[39m\u001b[34m(self)\u001b[39m\n\u001b[32m    208\u001b[39m \u001b[38;5;28;01mdel\u001b[39;00m \u001b[38;5;28mself\u001b[39m.args, \u001b[38;5;28mself\u001b[39m.kwds, \u001b[38;5;28mself\u001b[39m.func\n\u001b[32m    209\u001b[39m \u001b[38;5;28;01mtry\u001b[39;00m:\n\u001b[32m--> \u001b[39m\u001b[32m210\u001b[39m     \u001b[38;5;28;01mreturn\u001b[39;00m \u001b[38;5;28;01mawait\u001b[39;00m anext(\u001b[38;5;28mself\u001b[39m.gen)\n\u001b[32m    211\u001b[39m \u001b[38;5;28;01mexcept\u001b[39;00m \u001b[38;5;167;01mStopAsyncIteration\u001b[39;00m:\n\u001b[32m    212\u001b[39m     \u001b[38;5;28;01mraise\u001b[39;00m \u001b[38;5;167;01mRuntimeError\u001b[39;00m(\u001b[33m\"\u001b[39m\u001b[33mgenerator didn\u001b[39m\u001b[33m'\u001b[39m\u001b[33mt yield\u001b[39m\u001b[33m\"\u001b[39m) \u001b[38;5;28;01mfrom\u001b[39;00m\u001b[38;5;250m \u001b[39m\u001b[38;5;28;01mNone\u001b[39;00m\n",
      "\u001b[36mFile \u001b[39m\u001b[32m~/Desktop/projects/the_neural_maze/projects/multimodal-agents-course/agent-api/.venv/lib/python3.12/site-packages/fastmcp/client/client.py:237\u001b[39m, in \u001b[36mClient._context_manager\u001b[39m\u001b[34m(self)\u001b[39m\n\u001b[32m    235\u001b[39m \u001b[38;5;129m@asynccontextmanager\u001b[39m\n\u001b[32m    236\u001b[39m \u001b[38;5;28;01masync\u001b[39;00m \u001b[38;5;28;01mdef\u001b[39;00m\u001b[38;5;250m \u001b[39m\u001b[34m_context_manager\u001b[39m(\u001b[38;5;28mself\u001b[39m):\n\u001b[32m--> \u001b[39m\u001b[32m237\u001b[39m     \u001b[38;5;28;01mwith\u001b[39;00m catch(get_catch_handlers()):\n\u001b[32m    238\u001b[39m         \u001b[38;5;28;01masync\u001b[39;00m \u001b[38;5;28;01mwith\u001b[39;00m \u001b[38;5;28mself\u001b[39m.transport.connect_session(\n\u001b[32m    239\u001b[39m             **\u001b[38;5;28mself\u001b[39m._session_kwargs\n\u001b[32m    240\u001b[39m         ) \u001b[38;5;28;01mas\u001b[39;00m session:\n\u001b[32m    241\u001b[39m             \u001b[38;5;28mself\u001b[39m._session = session\n",
      "\u001b[36mFile \u001b[39m\u001b[32m~/Desktop/projects/the_neural_maze/projects/multimodal-agents-course/agent-api/.venv/lib/python3.12/site-packages/exceptiongroup/_catch.py:39\u001b[39m, in \u001b[36m_Catcher.__exit__\u001b[39m\u001b[34m(self, etype, exc, tb)\u001b[39m\n\u001b[32m     37\u001b[39m \u001b[38;5;28;01mif\u001b[39;00m \u001b[38;5;28misinstance\u001b[39m(exc, BaseExceptionGroup):\n\u001b[32m     38\u001b[39m     \u001b[38;5;28;01mtry\u001b[39;00m:\n\u001b[32m---> \u001b[39m\u001b[32m39\u001b[39m         \u001b[38;5;28;01mraise\u001b[39;00m unhandled \u001b[38;5;28;01mfrom\u001b[39;00m\u001b[38;5;250m \u001b[39m\u001b[34;01mexc\u001b[39;00m\u001b[34;01m.\u001b[39;00m\u001b[34;01m__cause__\u001b[39;00m\n\u001b[32m     40\u001b[39m     \u001b[38;5;28;01mexcept\u001b[39;00m BaseExceptionGroup:\n\u001b[32m     41\u001b[39m         \u001b[38;5;66;03m# Change __context__ to __cause__ because Python 3.11 does this\u001b[39;00m\n\u001b[32m     42\u001b[39m         \u001b[38;5;66;03m# too\u001b[39;00m\n\u001b[32m     43\u001b[39m         unhandled.__context__ = exc.__cause__\n",
      "\u001b[36mFile \u001b[39m\u001b[32m~/Desktop/projects/the_neural_maze/projects/multimodal-agents-course/agent-api/.venv/lib/python3.12/site-packages/exceptiongroup/_catch.py:65\u001b[39m, in \u001b[36m_Catcher.handle_exception\u001b[39m\u001b[34m(self, exc)\u001b[39m\n\u001b[32m     63\u001b[39m         \u001b[38;5;28;01mraise\u001b[39;00m matched\n\u001b[32m     64\u001b[39m     \u001b[38;5;28;01mexcept\u001b[39;00m BaseExceptionGroup:\n\u001b[32m---> \u001b[39m\u001b[32m65\u001b[39m         result = \u001b[43mhandler\u001b[49m\u001b[43m(\u001b[49m\u001b[43mmatched\u001b[49m\u001b[43m)\u001b[49m\n\u001b[32m     66\u001b[39m \u001b[38;5;28;01mexcept\u001b[39;00m BaseExceptionGroup \u001b[38;5;28;01mas\u001b[39;00m new_exc:\n\u001b[32m     67\u001b[39m     \u001b[38;5;28;01mif\u001b[39;00m new_exc \u001b[38;5;129;01mis\u001b[39;00m matched:\n",
      "\u001b[36mFile \u001b[39m\u001b[32m~/Desktop/projects/the_neural_maze/projects/multimodal-agents-course/agent-api/.venv/lib/python3.12/site-packages/fastmcp/utilities/exceptions.py:29\u001b[39m, in \u001b[36m_exception_handler\u001b[39m\u001b[34m(group)\u001b[39m\n\u001b[32m     22\u001b[39m \u001b[38;5;28;01mif\u001b[39;00m \u001b[38;5;28misinstance\u001b[39m(leaf, httpx.ConnectTimeout):\n\u001b[32m     23\u001b[39m     \u001b[38;5;28;01mraise\u001b[39;00m McpError(\n\u001b[32m     24\u001b[39m         error=mcp.types.ErrorData(\n\u001b[32m     25\u001b[39m             code=httpx.codes.REQUEST_TIMEOUT,\n\u001b[32m     26\u001b[39m             message=\u001b[33m\"\u001b[39m\u001b[33mTimed out while waiting for response.\u001b[39m\u001b[33m\"\u001b[39m,\n\u001b[32m     27\u001b[39m         )\n\u001b[32m     28\u001b[39m     )\n\u001b[32m---> \u001b[39m\u001b[32m29\u001b[39m \u001b[38;5;28;01mraise\u001b[39;00m leaf\n",
      "\u001b[36mFile \u001b[39m\u001b[32m~/Desktop/projects/the_neural_maze/projects/multimodal-agents-course/agent-api/.venv/lib/python3.12/site-packages/fastmcp/client/transports.py:284\u001b[39m, in \u001b[36mStreamableHttpTransport.connect_session\u001b[39m\u001b[34m(self, **session_kwargs)\u001b[39m\n\u001b[32m    280\u001b[39m read_stream, write_stream, _ = transport\n\u001b[32m    281\u001b[39m \u001b[38;5;28;01masync\u001b[39;00m \u001b[38;5;28;01mwith\u001b[39;00m ClientSession(\n\u001b[32m    282\u001b[39m     read_stream, write_stream, **session_kwargs\n\u001b[32m    283\u001b[39m ) \u001b[38;5;28;01mas\u001b[39;00m session:\n\u001b[32m--> \u001b[39m\u001b[32m284\u001b[39m     \u001b[38;5;28;01myield\u001b[39;00m session\n",
      "\u001b[36mFile \u001b[39m\u001b[32m~/Desktop/projects/the_neural_maze/projects/multimodal-agents-course/agent-api/.venv/lib/python3.12/site-packages/fastmcp/client/client.py:245\u001b[39m, in \u001b[36mClient._context_manager\u001b[39m\u001b[34m(self)\u001b[39m\n\u001b[32m    243\u001b[39m \u001b[38;5;28;01mtry\u001b[39;00m:\n\u001b[32m    244\u001b[39m     \u001b[38;5;28;01mwith\u001b[39;00m anyio.fail_after(\u001b[38;5;28mself\u001b[39m._init_timeout):\n\u001b[32m--> \u001b[39m\u001b[32m245\u001b[39m         \u001b[38;5;28mself\u001b[39m._initialize_result = \u001b[38;5;28;01mawait\u001b[39;00m \u001b[38;5;28mself\u001b[39m._session.initialize()\n\u001b[32m    246\u001b[39m     \u001b[38;5;28;01myield\u001b[39;00m\n\u001b[32m    247\u001b[39m \u001b[38;5;28;01mexcept\u001b[39;00m anyio.ClosedResourceError:\n",
      "\u001b[36mFile \u001b[39m\u001b[32m~/Desktop/projects/the_neural_maze/projects/multimodal-agents-course/agent-api/.venv/lib/python3.12/site-packages/mcp/client/session.py:133\u001b[39m, in \u001b[36mClientSession.initialize\u001b[39m\u001b[34m(self)\u001b[39m\n\u001b[32m    119\u001b[39m sampling = (\n\u001b[32m    120\u001b[39m     types.SamplingCapability()\n\u001b[32m    121\u001b[39m     \u001b[38;5;28;01mif\u001b[39;00m \u001b[38;5;28mself\u001b[39m._sampling_callback \u001b[38;5;129;01mis\u001b[39;00m \u001b[38;5;129;01mnot\u001b[39;00m _default_sampling_callback\n\u001b[32m    122\u001b[39m     \u001b[38;5;28;01melse\u001b[39;00m \u001b[38;5;28;01mNone\u001b[39;00m\n\u001b[32m    123\u001b[39m )\n\u001b[32m    124\u001b[39m roots = (\n\u001b[32m    125\u001b[39m     \u001b[38;5;66;03m# TODO: Should this be based on whether we\u001b[39;00m\n\u001b[32m    126\u001b[39m     \u001b[38;5;66;03m# _will_ send notifications, or only whether\u001b[39;00m\n\u001b[32m   (...)\u001b[39m\u001b[32m    130\u001b[39m     \u001b[38;5;28;01melse\u001b[39;00m \u001b[38;5;28;01mNone\u001b[39;00m\n\u001b[32m    131\u001b[39m )\n\u001b[32m--> \u001b[39m\u001b[32m133\u001b[39m result = \u001b[38;5;28;01mawait\u001b[39;00m \u001b[38;5;28mself\u001b[39m.send_request(\n\u001b[32m    134\u001b[39m     types.ClientRequest(\n\u001b[32m    135\u001b[39m         types.InitializeRequest(\n\u001b[32m    136\u001b[39m             method=\u001b[33m\"\u001b[39m\u001b[33minitialize\u001b[39m\u001b[33m\"\u001b[39m,\n\u001b[32m    137\u001b[39m             params=types.InitializeRequestParams(\n\u001b[32m    138\u001b[39m                 protocolVersion=types.LATEST_PROTOCOL_VERSION,\n\u001b[32m    139\u001b[39m                 capabilities=types.ClientCapabilities(\n\u001b[32m    140\u001b[39m                     sampling=sampling,\n\u001b[32m    141\u001b[39m                     experimental=\u001b[38;5;28;01mNone\u001b[39;00m,\n\u001b[32m    142\u001b[39m                     roots=roots,\n\u001b[32m    143\u001b[39m                 ),\n\u001b[32m    144\u001b[39m                 clientInfo=\u001b[38;5;28mself\u001b[39m._client_info,\n\u001b[32m    145\u001b[39m             ),\n\u001b[32m    146\u001b[39m         )\n\u001b[32m    147\u001b[39m     ),\n\u001b[32m    148\u001b[39m     types.InitializeResult,\n\u001b[32m    149\u001b[39m )\n\u001b[32m    151\u001b[39m \u001b[38;5;28;01mif\u001b[39;00m result.protocolVersion \u001b[38;5;129;01mnot\u001b[39;00m \u001b[38;5;129;01min\u001b[39;00m SUPPORTED_PROTOCOL_VERSIONS:\n\u001b[32m    152\u001b[39m     \u001b[38;5;28;01mraise\u001b[39;00m \u001b[38;5;167;01mRuntimeError\u001b[39;00m(\n\u001b[32m    153\u001b[39m         \u001b[33m\"\u001b[39m\u001b[33mUnsupported protocol version from the server: \u001b[39m\u001b[33m\"\u001b[39m\n\u001b[32m    154\u001b[39m         \u001b[33mf\u001b[39m\u001b[33m\"\u001b[39m\u001b[38;5;132;01m{\u001b[39;00mresult.protocolVersion\u001b[38;5;132;01m}\u001b[39;00m\u001b[33m\"\u001b[39m\n\u001b[32m    155\u001b[39m     )\n",
      "\u001b[36mFile \u001b[39m\u001b[32m~/Desktop/projects/the_neural_maze/projects/multimodal-agents-course/agent-api/.venv/lib/python3.12/site-packages/mcp/shared/session.py:297\u001b[39m, in \u001b[36mBaseSession.send_request\u001b[39m\u001b[34m(self, request, result_type, request_read_timeout_seconds, metadata, progress_callback)\u001b[39m\n\u001b[32m    285\u001b[39m     \u001b[38;5;28;01mraise\u001b[39;00m McpError(\n\u001b[32m    286\u001b[39m         ErrorData(\n\u001b[32m    287\u001b[39m             code=httpx.codes.REQUEST_TIMEOUT,\n\u001b[32m   (...)\u001b[39m\u001b[32m    293\u001b[39m         )\n\u001b[32m    294\u001b[39m     )\n\u001b[32m    296\u001b[39m \u001b[38;5;28;01mif\u001b[39;00m \u001b[38;5;28misinstance\u001b[39m(response_or_error, JSONRPCError):\n\u001b[32m--> \u001b[39m\u001b[32m297\u001b[39m     \u001b[38;5;28;01mraise\u001b[39;00m McpError(response_or_error.error)\n\u001b[32m    298\u001b[39m \u001b[38;5;28;01melse\u001b[39;00m:\n\u001b[32m    299\u001b[39m     \u001b[38;5;28;01mreturn\u001b[39;00m result_type.model_validate(response_or_error.result)\n",
      "\u001b[31mMcpError\u001b[39m: Session terminated"
     ]
    }
   ],
   "source": [
    "await agent.discover_tools()"
   ]
  },
  {
   "cell_type": "code",
   "execution_count": 15,
   "metadata": {},
   "outputs": [
    {
     "name": "stderr",
     "output_type": "stream",
     "text": [
      "\u001b[32m2025-06-03 15:46:39.195\u001b[0m | \u001b[1mINFO    \u001b[0m | \u001b[36magent_api.core.agent.memory\u001b[0m:\u001b[36mreset_memory\u001b[0m:\u001b[36m37\u001b[0m - \u001b[1mResetting memory: my_test_memory\u001b[0m\n"
     ]
    }
   ],
   "source": [
    "memory.reset_memory()"
   ]
  },
  {
   "cell_type": "code",
   "execution_count": 26,
   "metadata": {},
   "outputs": [
    {
     "name": "stdout",
     "output_type": "stream",
     "text": [
      "Created directory 'my_test_agent'.\n",
      "Created table `memory`.\n"
     ]
    }
   ],
   "source": [
    "agent = GroqAgent(\n",
    "    name=\"my_test_agent\",\n",
    "    system_prompt=\"You are a helpful assistant.\",\n",
    "    model=\"llama3-8b-8192\",\n",
    "    mcp_server=\"http://127.0.0.1:8000/mcp\",\n",
    ")"
   ]
  },
  {
   "cell_type": "code",
   "execution_count": 27,
   "metadata": {},
   "outputs": [
    {
     "name": "stdout",
     "output_type": "stream",
     "text": [
      "Inserting rows into `memory`: 1 rows [00:00, 395.06 rows/s]\n",
      "Inserted 1 row with 0 errors.\n",
      "Inserting rows into `memory`: 1 rows [00:00, 402.41 rows/s]\n",
      "Inserted 1 row with 0 errors.\n"
     ]
    },
    {
     "data": {
      "text/plain": [
       "\"I apologize, but I'm a helpful assistant, I don't have any prior knowledge of your name. Could you please tell me your name? I'll be happy to remember it for our conversation!\""
      ]
     },
     "execution_count": 27,
     "metadata": {},
     "output_type": "execute_result"
    }
   ],
   "source": [
    "agent.chat(message=\"What's my name?\")"
   ]
  },
  {
   "cell_type": "code",
   "execution_count": 25,
   "metadata": {},
   "outputs": [
    {
     "name": "stderr",
     "output_type": "stream",
     "text": [
      "\u001b[32m2025-06-03 16:01:24.038\u001b[0m | \u001b[1mINFO    \u001b[0m | \u001b[36magent_api.core.agent.memory\u001b[0m:\u001b[36mreset_memory\u001b[0m:\u001b[36m37\u001b[0m - \u001b[1mResetting memory: my_test_agent\u001b[0m\n"
     ]
    }
   ],
   "source": [
    "agent.reset_memory()"
   ]
  },
  {
   "cell_type": "code",
   "execution_count": 20,
   "metadata": {},
   "outputs": [
    {
     "name": "stderr",
     "output_type": "stream",
     "text": [
      "\u001b[32m2025-06-03 15:59:51.183\u001b[0m | \u001b[1mINFO    \u001b[0m | \u001b[36magent_api.core.agent.memory\u001b[0m:\u001b[36mreset_memory\u001b[0m:\u001b[36m37\u001b[0m - \u001b[1mResetting memory: my_test_agent\u001b[0m\n"
     ]
    }
   ],
   "source": [
    "agent.reset_memory()"
   ]
  }
 ],
 "metadata": {
  "kernelspec": {
   "display_name": ".venv",
   "language": "python",
   "name": "python3"
  },
  "language_info": {
   "codemirror_mode": {
    "name": "ipython",
    "version": 3
   },
   "file_extension": ".py",
   "mimetype": "text/x-python",
   "name": "python",
   "nbconvert_exporter": "python",
   "pygments_lexer": "ipython3",
   "version": "3.12.8"
  }
 },
 "nbformat": 4,
 "nbformat_minor": 2
}

{
 "cells": [
  {
   "cell_type": "code",
   "execution_count": 1,
   "metadata": {},
   "outputs": [
    {
     "data": {
      "text/plain": [
       "True"
      ]
     },
     "execution_count": 1,
     "metadata": {},
     "output_type": "execute_result"
    }
   ],
   "source": [
    "from dotenv import load_dotenv\n",
    "\n",
    "load_dotenv()"
   ]
  },
  {
   "cell_type": "code",
   "execution_count": 2,
   "metadata": {},
   "outputs": [],
   "source": [
    "from agent_api.agent import GroqAgent"
   ]
  },
  {
   "cell_type": "code",
   "execution_count": 3,
   "metadata": {},
   "outputs": [
    {
     "name": "stderr",
     "output_type": "stream",
     "text": [
      "\u001b[32m2025-06-09 13:16:31.834\u001b[0m | \u001b[1mINFO    \u001b[0m | \u001b[36magent_api.agent.base_agent\u001b[0m:\u001b[36mdiscover_tools\u001b[0m:\u001b[36m86\u001b[0m - \u001b[1mDiscovered 4 tools:\u001b[0m\n",
      "\u001b[32m2025-06-09 13:16:31.835\u001b[0m | \u001b[1mINFO    \u001b[0m | \u001b[36magent_api.agent.base_agent\u001b[0m:\u001b[36mdiscover_tools\u001b[0m:\u001b[36m88\u001b[0m - \u001b[1mFiltered tools to 2 active tools\u001b[0m\n",
      "\u001b[32m2025-06-09 13:16:31.835\u001b[0m | \u001b[1mINFO    \u001b[0m | \u001b[36magent_api.agent.base_agent\u001b[0m:\u001b[36mdiscover_tools\u001b[0m:\u001b[36m90\u001b[0m - \u001b[1m- get_video_clip_from_user_query: Use this tool to get a video clip from a video file based on a user query or question.\u001b[0m\n",
      "\u001b[32m2025-06-09 13:16:31.835\u001b[0m | \u001b[1mINFO    \u001b[0m | \u001b[36magent_api.agent.base_agent\u001b[0m:\u001b[36mdiscover_tools\u001b[0m:\u001b[36m90\u001b[0m - \u001b[1m- ask_question_about_video: Use this tool to get an answer to a question about the video.\u001b[0m\n",
      "\u001b[32m2025-06-09 13:16:31.835\u001b[0m | \u001b[1mINFO    \u001b[0m | \u001b[36magent_api.agent.base_agent\u001b[0m:\u001b[36m_get_routing_system_prompt\u001b[0m:\u001b[36m41\u001b[0m - \u001b[1mGetting routing system prompt\u001b[0m\n"
     ]
    },
    {
     "name": "stdout",
     "output_type": "stream",
     "text": [
      "Connected to Pixeltable database at: postgresql+psycopg://postgres:@/pixeltable?host=/Users/moteroperdido/.pixeltable/pgdata\n"
     ]
    },
    {
     "name": "stderr",
     "output_type": "stream",
     "text": [
      "\u001b[32m2025-06-09 13:16:32.314\u001b[0m | \u001b[1mINFO    \u001b[0m | \u001b[36magent_api.agent.base_agent\u001b[0m:\u001b[36m_get_tool_use_system_prompt\u001b[0m:\u001b[36m47\u001b[0m - \u001b[1mGetting tool use system prompt\u001b[0m\n",
      "\u001b[32m2025-06-09 13:16:32.446\u001b[0m | \u001b[1mINFO    \u001b[0m | \u001b[36magent_api.agent.base_agent\u001b[0m:\u001b[36m_get_general_system_prompt\u001b[0m:\u001b[36m53\u001b[0m - \u001b[1mGetting general system prompt\u001b[0m\n"
     ]
    }
   ],
   "source": [
    "agent = GroqAgent(\n",
    "    name=\"my_test_agent\",\n",
    "    mcp_server=\"http://127.0.0.1:9090/mcp\",\n",
    "    active_tools=[\"process_video\", \"get_video_clip_from_image\"],\n",
    ")\n",
    "await agent.setup()"
   ]
  },
  {
   "cell_type": "code",
   "execution_count": 4,
   "metadata": {},
   "outputs": [
    {
     "name": "stdout",
     "output_type": "stream",
     "text": [
      "\n",
      "You are a routing assistant part of a video processing application. \n",
      "You need to determine if the user query requires the use of a tool. \n",
      "The tools available are:\n",
      "\n",
      "- get_video_clip_from_user_query: This tool is used to get a clip from the video based on the user query.\n",
      "- ask_question_about_video: This tool is used to ask a question about the video.\n",
      "\n",
      "You output should be a boolean value indicating it tool use is required or not.\n",
      "\n"
     ]
    }
   ],
   "source": [
    "print(agent.routing_system_prompt)"
   ]
  },
  {
   "cell_type": "code",
   "execution_count": 5,
   "metadata": {},
   "outputs": [
    {
     "name": "stdout",
     "output_type": "stream",
     "text": [
      "\n",
      "Your name is Kubrick.\n",
      "You are a tool use assistant part of a video processing application.\n",
      "You need to determine which tool to use based on the user query (if any).\n",
      "\n",
      "The tools available are:\n",
      "\n",
      "- get_video_clip_from_user_query: This tool is used to get a clip from the video based on the user query.\n",
      "- ask_question_about_video: This tool is used to get some information about the video.\n",
      "\n",
      "The video path is: {video_path}\n",
      "\n"
     ]
    }
   ],
   "source": [
    "print(agent.tool_use_system_prompt)"
   ]
  },
  {
   "cell_type": "code",
   "execution_count": 6,
   "metadata": {},
   "outputs": [
    {
     "name": "stdout",
     "output_type": "stream",
     "text": [
      "\n",
      "Your name is Kubrick. \n",
      "You are a general assistant part of a video processing application.\n",
      "You need to help the user with their query.\n",
      "\n"
     ]
    }
   ],
   "source": [
    "print(agent.general_system_prompt)"
   ]
  },
  {
   "cell_type": "code",
   "execution_count": 7,
   "metadata": {},
   "outputs": [
    {
     "data": {
      "text/plain": [
       "False"
      ]
     },
     "execution_count": 7,
     "metadata": {},
     "output_type": "execute_result"
    }
   ],
   "source": [
    "agent._route_query(\"Hello, I'm Miguel!\")"
   ]
  },
  {
   "cell_type": "code",
   "execution_count": 8,
   "metadata": {},
   "outputs": [
    {
     "data": {
      "text/plain": [
       "True"
      ]
     },
     "execution_count": 8,
     "metadata": {},
     "output_type": "execute_result"
    }
   ],
   "source": [
    "agent._route_query(\"Get me the clip when the character says 'Hello, I'm Miguel!'\")"
   ]
  },
  {
   "cell_type": "code",
   "execution_count": 11,
   "metadata": {},
   "outputs": [
    {
     "name": "stdout",
     "output_type": "stream",
     "text": [
      "Inserting rows into `memory`: 1 rows [00:00, 53.63 rows/s]\n",
      "Inserted 1 row with 0 errors.\n",
      "Inserting rows into `memory`: 1 rows [00:00, 413.56 rows/s]\n",
      "Inserted 1 row with 0 errors.\n"
     ]
    },
    {
     "data": {
      "text/plain": [
       "\"I'm ready when you are! Please go ahead and upload the video to the server. Once it's uploaded, I'll do my best to analyze the video and tell you what the color of the table is.\""
      ]
     },
     "execution_count": 11,
     "metadata": {},
     "output_type": "execute_result"
    }
   ],
   "source": [
    "await agent.chat(\"Yoooo\", \"./videos/pass_the_butter_rick_and_morty.mp4\")"
   ]
  },
  {
   "cell_type": "code",
   "execution_count": 9,
   "metadata": {},
   "outputs": [
    {
     "name": "stdout",
     "output_type": "stream",
     "text": [
      "Inserting rows into `memory`: 1 rows [00:00, 73.13 rows/s]\n",
      "Inserted 1 row with 0 errors.\n",
      "Inserting rows into `memory`: 1 rows [00:00, 275.94 rows/s]\n",
      "Inserted 1 row with 0 errors.\n"
     ]
    },
    {
     "data": {
      "text/plain": [
       "'The color of the table in the video is yellow and green plaid, as indicated by the tablecloth.'"
      ]
     },
     "execution_count": 9,
     "metadata": {},
     "output_type": "execute_result"
    }
   ],
   "source": [
    "await agent.chat(\n",
    "    \"In the video, can you tell me what is the color of the table?\",\n",
    "    \"./videos/pass_the_butter_rick_and_morty.mp4\",\n",
    ")"
   ]
  },
  {
   "cell_type": "code",
   "execution_count": 10,
   "metadata": {},
   "outputs": [
    {
     "name": "stdout",
     "output_type": "stream",
     "text": [
      "Inserting rows into `memory`: 1 rows [00:00, 202.47 rows/s]\n",
      "Inserted 1 row with 0 errors.\n",
      "Inserting rows into `memory`: 1 rows [00:00, 870.91 rows/s]\n",
      "Inserted 1 row with 0 errors.\n"
     ]
    },
    {
     "data": {
      "text/plain": [
       "'Here is the clip of the video where Rick says \"Pass the butter\". The clip has been saved as ./videos/d8163345-7d9a-4909-91ab-71443b513813.mp4.'"
      ]
     },
     "execution_count": 10,
     "metadata": {},
     "output_type": "execute_result"
    }
   ],
   "source": [
    "await agent.chat(\n",
    "    \"Give me a clip of the video where Rick says 'Pass the butter'\",\n",
    "    \"./videos/pass_the_butter_rick_and_morty.mp4\",\n",
    ")"
   ]
  },
  {
   "cell_type": "code",
   "execution_count": 11,
   "metadata": {},
   "outputs": [
    {
     "name": "stderr",
     "output_type": "stream",
     "text": [
      "\u001b[32m2025-06-09 13:18:21.742\u001b[0m | \u001b[1mINFO    \u001b[0m | \u001b[36magent_api.agent.memory\u001b[0m:\u001b[36mreset_memory\u001b[0m:\u001b[36m37\u001b[0m - \u001b[1mResetting memory: my_test_agent\u001b[0m\n"
     ]
    }
   ],
   "source": [
    "agent.reset_memory()"
   ]
  }
 ],
 "metadata": {
  "kernelspec": {
   "display_name": ".venv",
   "language": "python",
   "name": "python3"
  },
  "language_info": {
   "codemirror_mode": {
    "name": "ipython",
    "version": 3
   },
   "file_extension": ".py",
   "mimetype": "text/x-python",
   "name": "python",
   "nbconvert_exporter": "python",
   "pygments_lexer": "ipython3",
   "version": "3.12.8"
  }
 },
 "nbformat": 4,
 "nbformat_minor": 2
}

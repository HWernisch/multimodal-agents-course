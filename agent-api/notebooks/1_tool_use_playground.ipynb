{
 "cells": [
  {
   "cell_type": "code",
   "execution_count": 1,
   "metadata": {},
   "outputs": [
    {
     "data": {
      "text/plain": [
       "True"
      ]
     },
     "execution_count": 1,
     "metadata": {},
     "output_type": "execute_result"
    }
   ],
   "source": [
    "import os\n",
    "\n",
    "from dotenv import load_dotenv\n",
    "\n",
    "load_dotenv()"
   ]
  },
  {
   "cell_type": "markdown",
   "metadata": {},
   "source": [
    "# Tool Use\n"
   ]
  },
  {
   "cell_type": "markdown",
   "metadata": {},
   "source": [
    "First of all, let's get the available tools from the MCP server.\n"
   ]
  },
  {
   "cell_type": "code",
   "execution_count": 43,
   "metadata": {},
   "outputs": [],
   "source": [
    "from fastmcp.client import Client\n",
    "\n",
    "mcp_client = Client(\"http://127.0.0.1:9090/mcp\")\n",
    "\n",
    "async with mcp_client:\n",
    "    mcp_tools = await mcp_client.list_tools()"
   ]
  },
  {
   "cell_type": "code",
   "execution_count": 44,
   "metadata": {},
   "outputs": [
    {
     "data": {
      "text/plain": [
       "[Tool(name='process_video', description='Process a video file and prepare it for searching.', inputSchema={'properties': {'video_path': {'title': 'Video Path', 'type': 'string'}}, 'required': ['video_path'], 'type': 'object'}, annotations=None),\n",
       " Tool(name='get_video_clip_from_user_query', description='Use this tool to get a video clip from a video file based on a user query or question.', inputSchema={'properties': {'video_name': {'title': 'Video Name', 'type': 'string'}, 'user_query': {'title': 'User Query', 'type': 'string'}}, 'required': ['video_name', 'user_query'], 'type': 'object'}, annotations=None),\n",
       " Tool(name='get_video_clip_from_image', description='Use this tool to get a video clip from a video file based on a user image.', inputSchema={'$defs': {'Base64Image': {'properties': {'image': {'description': 'Base64 encoded image string', 'title': 'Image', 'type': 'string'}}, 'required': ['image'], 'title': 'Base64Image', 'type': 'object'}}, 'properties': {'video_name': {'title': 'Video Name', 'type': 'string'}, 'user_image': {'$ref': '#/$defs/Base64Image', 'title': 'User Image'}}, 'required': ['video_name', 'user_image'], 'type': 'object'}, annotations=None),\n",
       " Tool(name='ask_question_about_video', description='Use this tool to get an answer to a question about the video.', inputSchema={'properties': {'video_name': {'title': 'Video Name', 'type': 'string'}, 'user_query': {'title': 'User Query', 'type': 'string'}}, 'required': ['video_name', 'user_query'], 'type': 'object'}, annotations=None)]"
      ]
     },
     "execution_count": 44,
     "metadata": {},
     "output_type": "execute_result"
    }
   ],
   "source": [
    "mcp_tools"
   ]
  },
  {
   "cell_type": "markdown",
   "metadata": {},
   "source": [
    "Now that we have the tools, it's time to translate them into the format that the Groq API expects.\n"
   ]
  },
  {
   "cell_type": "code",
   "execution_count": 45,
   "metadata": {},
   "outputs": [],
   "source": [
    "from mcp.types import Tool\n",
    "\n",
    "\n",
    "def transform_schema_to_parameters(schema: dict) -> dict:\n",
    "    properties = {}\n",
    "\n",
    "    for field_name, field_info in schema[\"properties\"].items():\n",
    "        properties[field_name] = {\n",
    "            \"type\": field_info[\"type\"],\n",
    "            \"description\": field_info[\"title\"],\n",
    "        }\n",
    "        if \"default\" in field_info:\n",
    "            properties[field_name][\"default\"] = field_info[\"default\"]\n",
    "\n",
    "    return {\n",
    "        \"type\": \"object\",\n",
    "        \"properties\": properties,\n",
    "        \"required\": schema.get(\"required\"),\n",
    "    }\n",
    "\n",
    "\n",
    "def transform_tool_definition(tool: Tool) -> dict:\n",
    "    return {\n",
    "        \"type\": \"function\",\n",
    "        \"function\": {\n",
    "            \"name\": tool.name,\n",
    "            \"description\": tool.description,\n",
    "            \"parameters\": transform_schema_to_parameters(tool.inputSchema),\n",
    "        },\n",
    "    }"
   ]
  },
  {
   "cell_type": "code",
   "execution_count": 46,
   "metadata": {},
   "outputs": [],
   "source": [
    "tools = [\n",
    "    transform_tool_definition(mcp_tool)\n",
    "    for mcp_tool in mcp_tools\n",
    "    if mcp_tool.name != \"get_video_clip_from_image\"\n",
    "]"
   ]
  },
  {
   "cell_type": "code",
   "execution_count": 47,
   "metadata": {},
   "outputs": [
    {
     "data": {
      "text/plain": [
       "[{'type': 'function',\n",
       "  'function': {'name': 'process_video',\n",
       "   'description': 'Process a video file and prepare it for searching.',\n",
       "   'parameters': {'type': 'object',\n",
       "    'properties': {'video_path': {'type': 'string',\n",
       "      'description': 'Video Path'}},\n",
       "    'required': ['video_path']}}},\n",
       " {'type': 'function',\n",
       "  'function': {'name': 'get_video_clip_from_user_query',\n",
       "   'description': 'Use this tool to get a video clip from a video file based on a user query or question.',\n",
       "   'parameters': {'type': 'object',\n",
       "    'properties': {'video_name': {'type': 'string',\n",
       "      'description': 'Video Name'},\n",
       "     'user_query': {'type': 'string', 'description': 'User Query'}},\n",
       "    'required': ['video_name', 'user_query']}}},\n",
       " {'type': 'function',\n",
       "  'function': {'name': 'ask_question_about_video',\n",
       "   'description': 'Use this tool to get an answer to a question about the video.',\n",
       "   'parameters': {'type': 'object',\n",
       "    'properties': {'video_name': {'type': 'string',\n",
       "      'description': 'Video Name'},\n",
       "     'user_query': {'type': 'string', 'description': 'User Query'}},\n",
       "    'required': ['video_name', 'user_query']}}}]"
      ]
     },
     "execution_count": 47,
     "metadata": {},
     "output_type": "execute_result"
    }
   ],
   "source": [
    "tools"
   ]
  },
  {
   "cell_type": "code",
   "execution_count": 48,
   "metadata": {},
   "outputs": [],
   "source": [
    "from groq import Groq\n",
    "\n",
    "MODEL = \"llama-3.3-70b-versatile\"\n",
    "groq_client = Groq(api_key=os.environ.get(\"GROQ_API_KEY\"))\n"
   ]
  },
  {
   "cell_type": "code",
   "execution_count": 49,
   "metadata": {},
   "outputs": [],
   "source": [
    "messages = [\n",
    "    {\"role\": \"system\", \"content\": \"You are Kubrick, a video processing assistant.\"},\n",
    "    {\n",
    "        \"role\": \"user\",\n",
    "        \"content\": \"Hey! What's your name?\",\n",
    "    },\n",
    "]\n",
    "\n",
    "response = groq_client.chat.completions.create(\n",
    "    model=MODEL,\n",
    "    messages=messages,\n",
    "    stream=False,\n",
    "    tools=tools,\n",
    "    tool_choice=\"auto\",\n",
    "    max_completion_tokens=4096,\n",
    ")"
   ]
  },
  {
   "cell_type": "code",
   "execution_count": 50,
   "metadata": {},
   "outputs": [
    {
     "data": {
      "text/plain": [
       "\"I'm Kubrick, nice to meet you. I'm a video processing assistant, here to help with any video-related tasks you might have. How can I assist you today?\""
      ]
     },
     "execution_count": 50,
     "metadata": {},
     "output_type": "execute_result"
    }
   ],
   "source": [
    "response.choices[0].message.content"
   ]
  },
  {
   "cell_type": "code",
   "execution_count": 68,
   "metadata": {},
   "outputs": [],
   "source": [
    "messages = [\n",
    "    {\n",
    "        \"role\": \"system\",\n",
    "        \"content\": \"You are Kubrick, a video processing assistant. The current video name is: ./videos/pass_the_butter_rick_and_morty.mp4\",\n",
    "    },\n",
    "    {\n",
    "        \"role\": \"user\",\n",
    "        \"content\": \"I want to get the clip of the video where Rick says 'Pass the butter', please\",\n",
    "    },\n",
    "]\n",
    "\n",
    "response = groq_client.chat.completions.create(\n",
    "    model=MODEL,\n",
    "    messages=messages,\n",
    "    stream=False,\n",
    "    tools=tools,\n",
    "    tool_choice=\"auto\",\n",
    "    max_completion_tokens=4096,\n",
    ")"
   ]
  },
  {
   "cell_type": "code",
   "execution_count": 69,
   "metadata": {},
   "outputs": [],
   "source": [
    "response.choices[0].message.content"
   ]
  },
  {
   "cell_type": "code",
   "execution_count": 70,
   "metadata": {},
   "outputs": [],
   "source": [
    "tool_calls = response.choices[0].message.tool_calls"
   ]
  },
  {
   "cell_type": "code",
   "execution_count": 71,
   "metadata": {},
   "outputs": [
    {
     "data": {
      "text/plain": [
       "'get_video_clip_from_user_query'"
      ]
     },
     "execution_count": 71,
     "metadata": {},
     "output_type": "execute_result"
    }
   ],
   "source": [
    "tool_calls[0].function.name"
   ]
  },
  {
   "cell_type": "code",
   "execution_count": 72,
   "metadata": {},
   "outputs": [],
   "source": [
    "import json\n",
    "\n",
    "inputs = json.loads(tool_calls[0].function.arguments)"
   ]
  },
  {
   "cell_type": "code",
   "execution_count": 73,
   "metadata": {},
   "outputs": [
    {
     "data": {
      "text/plain": [
       "{'user_query': 'Rick says Pass the butter',\n",
       " 'video_name': './videos/pass_the_butter_rick_and_morty.mp4'}"
      ]
     },
     "execution_count": 73,
     "metadata": {},
     "output_type": "execute_result"
    }
   ],
   "source": [
    "inputs"
   ]
  },
  {
   "cell_type": "code",
   "execution_count": 74,
   "metadata": {},
   "outputs": [
    {
     "name": "stdout",
     "output_type": "stream",
     "text": [
      "[TextContent(type='text', text='{\\n  \"filename\": \"./videos/4c60b94d-9276-4d33-b881-3d652f583512.mp4\"\\n}', annotations=None)]\n"
     ]
    }
   ],
   "source": [
    "async with mcp_client:\n",
    "    result = await mcp_client.call_tool(\"get_video_clip_from_user_query\", inputs)\n",
    "    print(result)"
   ]
  },
  {
   "cell_type": "code",
   "execution_count": 76,
   "metadata": {},
   "outputs": [
    {
     "data": {
      "text/plain": [
       "{'filename': './videos/4c60b94d-9276-4d33-b881-3d652f583512.mp4'}"
      ]
     },
     "execution_count": 76,
     "metadata": {},
     "output_type": "execute_result"
    }
   ],
   "source": [
    "import json\n",
    "\n",
    "json.loads(result[0].text)"
   ]
  },
  {
   "cell_type": "code",
   "execution_count": 22,
   "metadata": {},
   "outputs": [],
   "source": [
    "response_message = response.choices[0].message\n",
    "tool_calls = response_message.tool_calls"
   ]
  },
  {
   "cell_type": "code",
   "execution_count": 23,
   "metadata": {},
   "outputs": [],
   "source": [
    "tool_calls"
   ]
  }
 ],
 "metadata": {
  "kernelspec": {
   "display_name": ".venv",
   "language": "python",
   "name": "python3"
  },
  "language_info": {
   "codemirror_mode": {
    "name": "ipython",
    "version": 3
   },
   "file_extension": ".py",
   "mimetype": "text/x-python",
   "name": "python",
   "nbconvert_exporter": "python",
   "pygments_lexer": "ipython3",
   "version": "3.12.8"
  }
 },
 "nbformat": 4,
 "nbformat_minor": 2
}
